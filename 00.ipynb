{
 "cells": [
  {
   "cell_type": "code",
   "execution_count": 1,
   "id": "9a0ba4e1-1c6b-4e28-9d7f-198a3007b3a2",
   "metadata": {},
   "outputs": [],
   "source": [
    "# !unzip ./archive\\ \\(85\\).zip"
   ]
  },
  {
   "cell_type": "code",
   "execution_count": 2,
   "id": "f0c45580-30b8-4d1c-8026-1d1da65807e3",
   "metadata": {},
   "outputs": [],
   "source": [
    "import cv2,os\n",
    "import torch,torchvision\n",
    "import numpy as np\n",
    "import pandas as pd\n",
    "# import %matplotlib.pylot as plt\n",
    "from detectron2.config import get_cfg\n",
    "from detectron2.data import DatasetCatalog,MetadataCatalog\n",
    "from detectron2.engine import DefaultTrainer,DefaultPredictor\n",
    "from detectron2.utils.visualizer import Visualizer,ColorMode\n",
    "from detectron2.evaluation import COCOEvaluator\n",
    "from detectron2 import model_zoo\n",
    "from detectron2.structures import BoxMode\n",
    "from tqdm import tqdm"
   ]
  },
  {
   "cell_type": "code",
   "execution_count": 3,
   "id": "8796ca9e-f1f9-4324-87b9-9d0636db1c5b",
   "metadata": {},
   "outputs": [],
   "source": [
    "labels_train = pd.read_csv('./labels_train.csv')\n",
    "labels_trainval = pd.read_csv('./labels_trainval.csv')\n",
    "labels_val = pd.read_csv('./labels_val.csv')"
   ]
  },
  {
   "cell_type": "code",
   "execution_count": 4,
   "id": "3d737835-dfb0-4fda-ab71-90ddd5408e7b",
   "metadata": {},
   "outputs": [],
   "source": [
    "data = labels_train.append(labels_trainval).append(labels_val)"
   ]
  },
  {
   "cell_type": "code",
   "execution_count": 5,
   "id": "90a53c33-e7a9-445a-8602-f0768566dc2c",
   "metadata": {},
   "outputs": [],
   "source": [
    "from sklearn.model_selection import train_test_split"
   ]
  },
  {
   "cell_type": "code",
   "execution_count": 6,
   "id": "af941625-1a54-4bab-b311-cb6fbf4a710e",
   "metadata": {},
   "outputs": [],
   "source": [
    "train_data,val_data = train_test_split(data,test_size=0.25)"
   ]
  },
  {
   "cell_type": "code",
   "execution_count": 7,
   "id": "c3831740-65d5-4f40-b3fe-f28a5c695d06",
   "metadata": {},
   "outputs": [
    {
     "data": {
      "text/plain": [
       "(247657, 82553)"
      ]
     },
     "execution_count": 7,
     "metadata": {},
     "output_type": "execute_result"
    }
   ],
   "source": [
    "len(train_data),len(val_data)"
   ]
  },
  {
   "cell_type": "code",
   "execution_count": 8,
   "id": "34422a47-6902-453c-9250-4c20253f1306",
   "metadata": {},
   "outputs": [],
   "source": [
    "train_data = train_data\n",
    "val_data = val_data"
   ]
  },
  {
   "cell_type": "code",
   "execution_count": 9,
   "id": "904fb81d-bd92-408d-a4d9-2bf537f1bc6a",
   "metadata": {},
   "outputs": [],
   "source": [
    "def load_data(data):\n",
    "    dataset = []\n",
    "    for idx in tqdm(range(len(data))):\n",
    "        record = {}\n",
    "        info = data.iloc[idx]\n",
    "        file_name = './images/' + info['frame']\n",
    "        height,width = cv2.imread(file_name).shape[:2]\n",
    "        xmin,ymin,xmax,ymax = info['xmin'],info['ymin'],info['xmax'],info['ymax']\n",
    "        class_id = info['class_id']-1\n",
    "        objs = [{'bbox':[xmin,ymin,xmax,ymax],'bbox_mode':BoxMode.XYXY_ABS,'iscrowd':0,'category_id':class_id}]\n",
    "        record['file_name'] = file_name\n",
    "        record['height'] = height\n",
    "        record['width'] = width\n",
    "        record['xmin'] = xmin\n",
    "        record['ymin'] = ymin\n",
    "        record['xmax'] = xmax\n",
    "        record['ymax'] = ymax\n",
    "        record['class_id'] = class_id\n",
    "        record['image_id'] = idx\n",
    "        record['category_id'] = class_id\n",
    "        record['annotations'] = objs\n",
    "        dataset.append(record)\n",
    "    return dataset"
   ]
  },
  {
   "cell_type": "code",
   "execution_count": 10,
   "id": "b39879df-e17b-4622-83d5-19222b974878",
   "metadata": {},
   "outputs": [],
   "source": [
    "classes = ['car', 'truck', 'pedestrian', 'bicyclist', 'light']"
   ]
  },
  {
   "cell_type": "code",
   "execution_count": 11,
   "id": "ffbb1893-9b67-48cf-9f78-531e25ac3204",
   "metadata": {},
   "outputs": [],
   "source": [
    "DatasetCatalog.register('train_data',lambda : load_data(train_data))\n",
    "MetadataCatalog.get('train_data').set(thing_classes=classes)\n",
    "train_data_metadata = MetadataCatalog.get('train_data')\n",
    "DatasetCatalog.register('val_data',lambda : load_data(val_data))\n",
    "MetadataCatalog.get('val_data').set(thing_classes=classes)\n",
    "train_data_metadata = MetadataCatalog.get('val_data')"
   ]
  },
  {
   "cell_type": "code",
   "execution_count": 12,
   "id": "1ecfd5e6-d164-4452-a91a-830b6309ac79",
   "metadata": {},
   "outputs": [],
   "source": [
    "# torch.cuda.empty_cache()\n",
    "# cfg = get_cfg()\n",
    "# cfg.merge_from_file(model_zoo.get_config_file(\"COCO-Detection/faster_rcnn_R_101_C4_3x.yaml\"))\n",
    "# cfg.DATASETS.TRAIN = (\"train_data\",)\n",
    "# cfg.DATASETS.TEST = ('val_data',)\n",
    "# cfg.MODEL.WEIGHTS = model_zoo.get_checkpoint_url(\"COCO-Detection/faster_rcnn_R_101_C4_3x.yaml\")\n",
    "# cfg.SOLVER.IMS_PER_BATCH = 2\n",
    "# cfg.SOLVER.BASE_LR = 0.00025\n",
    "# cfg.SOLVER.MAX_ITER = 1000\n",
    "# cfg.SOLVER.STEPS = []\n",
    "# cfg.MODEL.ROI_HEADS.BATCH_SIZE_PER_IMAGE = 128\n",
    "# cfg.MODEL.ROI_HEADS.NUM_CLASSES = 5\n",
    "# os.makedirs(cfg.OUTPUT_DIR,exist_ok=True)\n",
    "# trainer = DefaultTrainer(cfg)\n",
    "# trainer.resume_or_load(resume=False)\n",
    "# trainer.train()"
   ]
  },
  {
   "cell_type": "code",
   "execution_count": 13,
   "id": "02143cbc-6d89-4dc5-bcc5-c88a0ab3f157",
   "metadata": {},
   "outputs": [],
   "source": [
    "# evaluator = COCOEvaluator('val_data',('bbox',),False,'./output')\n",
    "# from detectron2.evaluation import COCOEvaluator, inference_on_dataset\n",
    "# from detectron2.data import build_detection_test_loader\n",
    "# val_loader = build_detection_test_loader(cfg, \"val_data\")\n",
    "# print(inference_on_dataset(trainer.model, val_loader, evaluator))"
   ]
  },
  {
   "cell_type": "code",
   "execution_count": 14,
   "id": "cbbfb679-accb-40a9-ba42-886675b20f2e",
   "metadata": {},
   "outputs": [],
   "source": [
    "# import matplotlib.pyplot as plt"
   ]
  },
  {
   "cell_type": "code",
   "execution_count": 15,
   "id": "5c64c504-5805-46ba-89b2-7c874cdce937",
   "metadata": {},
   "outputs": [],
   "source": [
    "# img = cv2.imread('./images/1478019952686311006.jpg')\n",
    "# predictor = DefaultPredictor(cfg)\n",
    "# outputs = predictor(img)\n",
    "# v = Visualizer(img[:,:,::-1],metadata=train_data_metadata,scale=0.75)\n",
    "# v = v.draw_instance_predictions(outputs['instances'].to('cpu'))\n",
    "# plt.figure(figsize=(10,7))\n",
    "# plt.imshow(cv2.cvtColor(v.get_image()[:,:,::-1],cv2.COLOR_BGR2RGB))\n",
    "# plt.show()"
   ]
  },
  {
   "cell_type": "code",
   "execution_count": 16,
   "id": "c2020000-dbd2-49b8-b87e-9458d74e8b93",
   "metadata": {},
   "outputs": [],
   "source": [
    "# torch.cuda.empty_cache()\n",
    "# cfg = get_cfg()\n",
    "# cfg.merge_from_file(model_zoo.get_config_file(\"COCO-Detection/faster_rcnn_R_101_C4_3x.yaml\"))\n",
    "# cfg.DATASETS.TRAIN = (\"train_data\",)\n",
    "# cfg.DATASETS.TEST = ('val_data',)\n",
    "# cfg.MODEL.WEIGHTS = model_zoo.get_checkpoint_url(\"COCO-Detection/faster_rcnn_R_101_C4_3x.yaml\")\n",
    "# cfg.SOLVER.IMS_PER_BATCH = 2\n",
    "# cfg.SOLVER.BASE_LR = 0.00025\n",
    "# cfg.SOLVER.MAX_ITER = 1000\n",
    "# cfg.SOLVER.STEPS = []\n",
    "# cfg.MODEL.ROI_HEADS.BATCH_SIZE_PER_IMAGE = 128\n",
    "# cfg.MODEL.ROI_HEADS.NUM_CLASSES = 5\n",
    "# os.makedirs(cfg.OUTPUT_DIR,exist_ok=True)\n",
    "# trainer = DefaultTrainer(cfg)\n",
    "# trainer.resume_or_load(resume=False)\n",
    "# trainer.train()"
   ]
  },
  {
   "cell_type": "code",
   "execution_count": 17,
   "id": "430ab337-671d-4b51-b5bc-90d2e2a1362b",
   "metadata": {},
   "outputs": [],
   "source": [
    "# torch.cuda.empty_cache()\n",
    "# cfg = get_cfg()\n",
    "# cfg.merge_from_file(model_zoo.get_config_file(\"COCO-Detection/faster_rcnn_R_101_C4_3x.yaml\"))\n",
    "# cfg.DATASETS.TRAIN = (\"train_data\",)\n",
    "# cfg.DATASETS.TEST = ('val_data',)\n",
    "# cfg.MODEL.WEIGHTS = model_zoo.get_checkpoint_url(\"COCO-Detection/faster_rcnn_R_101_C4_3x.yaml\")\n",
    "# cfg.SOLVER.IMS_PER_BATCH = 2\n",
    "# cfg.SOLVER.BASE_LR = 0.00025\n",
    "# cfg.SOLVER.MAX_ITER = 1000\n",
    "# cfg.SOLVER.STEPS = []\n",
    "# cfg.MODEL.ROI_HEADS.BATCH_SIZE_PER_IMAGE = 128\n",
    "# cfg.MODEL.ROI_HEADS.NUM_CLASSES = 5\n",
    "# os.makedirs(cfg.OUTPUT_DIR,exist_ok=True)\n",
    "# trainer = DefaultTrainer(cfg)\n",
    "# trainer.resume_or_load(resume=False)\n",
    "# trainer.train()"
   ]
  },
  {
   "cell_type": "code",
   "execution_count": 18,
   "id": "f9ef037a-cd66-45b5-a6a9-5d1b1f0b1869",
   "metadata": {},
   "outputs": [],
   "source": [
    "# torch.cuda.empty_cache()\n",
    "# cfg = get_cfg()\n",
    "# cfg.merge_from_file(model_zoo.get_config_file(\"COCO-Detection/faster_rcnn_R_101_C4_3x.yaml\"))\n",
    "# cfg.DATASETS.TRAIN = ('train_data',)\n",
    "# cfg.DATASETS.TEST = ('val_data',)\n",
    "# cfg.MODEL.WEIGHTS = model_zoo.get_checkpoint_url(\"COCO-Detection/faster_rcnn_R_101_C4_3x.yaml\")\n",
    "# cfg.SOLVER.IMS_PER_BATCH = 2   \n",
    "# cfg.SOLVER.BASE_LR = 0.00025\n",
    "# cfg.SOLVER.MAX_ITER = 1000\n",
    "# cfg.SOLVER.STEPS = []\n",
    "# cfg.MODEL.ROI_HEADS.BATCH_SIZE_PER_IMAGE = 128\n",
    "# cfg.MODEL.ROI_HEADS.NUM_CLASSES = 5\n",
    "# os.makedirs(cfg.OUTPUT_DIR,exist_ok=True)\n",
    "# trainer = DefaultTrainer(cfg)\n",
    "# trainer.resume_or_load(resume=False)\n",
    "# trainer.train()"
   ]
  },
  {
   "cell_type": "code",
   "execution_count": 19,
   "id": "66f6aebd-a248-4c32-a3ce-cd11f83ab215",
   "metadata": {},
   "outputs": [],
   "source": [
    "imgs_per_batch = [4,5]\n",
    "base_lrs = [0.00025,0.00050,0.000125,0.00075,0.001,0.01,0.1,1.0]\n",
    "batch_size_per_images = [256,512,512+256]"
   ]
  },
  {
   "cell_type": "code",
   "execution_count": 20,
   "id": "ee8b667f-ad69-495f-8048-64799ba9d75d",
   "metadata": {},
   "outputs": [],
   "source": [
    "from detectron2.data import build_detection_test_loader"
   ]
  },
  {
   "cell_type": "code",
   "execution_count": 21,
   "id": "0e15e44d-6755-422a-a01b-029bcd5cb136",
   "metadata": {},
   "outputs": [],
   "source": [
    "import wandb"
   ]
  },
  {
   "cell_type": "code",
   "execution_count": 22,
   "id": "9fd4c132-445c-4c1d-b6ca-98da2415b57b",
   "metadata": {
    "tags": []
   },
   "outputs": [],
   "source": [
    "# for img_pre_batch in imgs_per_batch:\n",
    "#     wandb.init(sync_tensorboard=True,name=f'img_pre_batch-{img_pre_batch}')\n",
    "#     torch.cuda.empty_cache()\n",
    "#     cfg = get_cfg()\n",
    "#     cfg.merge_from_file(model_zoo.get_config_file(\"COCO-Detection/faster_rcnn_R_101_C4_3x.yaml\"))\n",
    "#     cfg.DATASETS.TRAIN = ('train_data',)\n",
    "#     cfg.DATASETS.TEST = ('val_data',)\n",
    "#     cfg.MODEL.WEIGHTS = model_zoo.get_checkpoint_url(\"COCO-Detection/faster_rcnn_R_101_C4_3x.yaml\")\n",
    "#     cfg.SOLVER.IMS_PER_BATCH = img_pre_batch\n",
    "#     cfg.SOLVER.BASE_LR = 0.00025\n",
    "#     cfg.SOLVER.MAX_ITER = 500\n",
    "#     cfg.SOLVER.STEPS = []\n",
    "#     cfg.MODEL.ROI_HEADS.BATCH_SIZE_PER_IMAGE = 128\n",
    "#     cfg.MODEL.ROI_HEADS.NUM_CLASSES = 5\n",
    "#     os.makedirs(cfg.OUTPUT_DIR,exist_ok=True)\n",
    "#     trainer = DefaultTrainer(cfg)\n",
    "#     trainer.resume_or_load(resume=False)\n",
    "#     trainer.train()\n",
    "#     evaluator = COCOEvaluator('val_data',('bbox',),False,'./output/')\n",
    "#     trainer.test(cfg,[build_detection_test_loader(cfg, \"val_data\")])"
   ]
  },
  {
   "cell_type": "code",
   "execution_count": 23,
   "id": "abdcfaa5-1e8c-4969-b386-97877468c8df",
   "metadata": {},
   "outputs": [],
   "source": [
    "# cfg.MODEL.ROI_HEADS.SCORE_THRESH_TEST = 0.7 \n",
    "# predictor = DefaultPredictor(cfg)"
   ]
  },
  {
   "cell_type": "code",
   "execution_count": 24,
   "id": "3a6f47cf-bdc7-46c7-9b2c-97eaf26f9c87",
   "metadata": {},
   "outputs": [],
   "source": [
    "# img = cv2.imread('./images/1478019961182003465.jpg')"
   ]
  },
  {
   "cell_type": "code",
   "execution_count": 25,
   "id": "c906c128-0197-4194-bba9-99590b969a9d",
   "metadata": {},
   "outputs": [],
   "source": [
    "# preds = predictor(img)['instances']"
   ]
  },
  {
   "cell_type": "code",
   "execution_count": 26,
   "id": "4d027417-e295-4340-825f-5b0555c01771",
   "metadata": {},
   "outputs": [],
   "source": [
    "# import matplotlib.pyplot as plt"
   ]
  },
  {
   "cell_type": "code",
   "execution_count": 27,
   "id": "f5335921-eec0-46b4-870c-1a987b10efc1",
   "metadata": {},
   "outputs": [],
   "source": [
    "# v = Visualizer(img[:,:,::-1],metadata=train_data_metadata,scale=1.0)\n",
    "# v = v.draw_instance_predictions(preds.to('cpu'))\n",
    "# plt.figure(figsize=(10,7))\n",
    "# plt.imshow(v.get_image()[:,:,::-1])\n",
    "# plt.show()"
   ]
  },
  {
   "cell_type": "code",
   "execution_count": 28,
   "id": "213d43d7-3fd9-47b0-b0da-1d8098f745ae",
   "metadata": {},
   "outputs": [
    {
     "data": {
      "text/plain": [
       "312"
      ]
     },
     "execution_count": 28,
     "metadata": {},
     "output_type": "execute_result"
    }
   ],
   "source": [
    "round(312.5)"
   ]
  },
  {
   "cell_type": "code",
   "execution_count": null,
   "id": "9adc602e-6eb3-46ba-bde8-8d5b5c0a8fa5",
   "metadata": {},
   "outputs": [
    {
     "name": "stderr",
     "output_type": "stream",
     "text": [
      "Retry attempt failed:\n",
      "Traceback (most recent call last):\n",
      "  File \"/home/indika/anaconda3/lib/python3.7/site-packages/urllib3/connectionpool.py\", line 706, in urlopen\n",
      "    chunked=chunked,\n",
      "  File \"/home/indika/anaconda3/lib/python3.7/site-packages/urllib3/connectionpool.py\", line 382, in _make_request\n",
      "    self._validate_conn(conn)\n",
      "  File \"/home/indika/anaconda3/lib/python3.7/site-packages/urllib3/connectionpool.py\", line 1010, in _validate_conn\n",
      "    conn.connect()\n",
      "  File \"/home/indika/anaconda3/lib/python3.7/site-packages/urllib3/connection.py\", line 421, in connect\n",
      "    tls_in_tls=tls_in_tls,\n",
      "  File \"/home/indika/anaconda3/lib/python3.7/site-packages/urllib3/util/ssl_.py\", line 429, in ssl_wrap_socket\n",
      "    sock, context, tls_in_tls, server_hostname=server_hostname\n",
      "  File \"/home/indika/anaconda3/lib/python3.7/site-packages/urllib3/util/ssl_.py\", line 472, in _ssl_wrap_socket_impl\n",
      "    return ssl_context.wrap_socket(sock, server_hostname=server_hostname)\n",
      "  File \"/home/indika/anaconda3/lib/python3.7/ssl.py\", line 423, in wrap_socket\n",
      "    session=session\n",
      "  File \"/home/indika/anaconda3/lib/python3.7/ssl.py\", line 870, in _create\n",
      "    self.do_handshake()\n",
      "  File \"/home/indika/anaconda3/lib/python3.7/ssl.py\", line 1139, in do_handshake\n",
      "    self._sslobj.do_handshake()\n",
      "ssl.SSLCertVerificationError: [SSL: CERTIFICATE_VERIFY_FAILED] certificate verify failed: certificate has expired (_ssl.c:1076)\n",
      "\n",
      "During handling of the above exception, another exception occurred:\n",
      "\n",
      "Traceback (most recent call last):\n",
      "  File \"/home/indika/anaconda3/lib/python3.7/site-packages/requests/adapters.py\", line 449, in send\n",
      "    timeout=timeout\n",
      "  File \"/home/indika/anaconda3/lib/python3.7/site-packages/urllib3/connectionpool.py\", line 756, in urlopen\n",
      "    method, url, error=e, _pool=self, _stacktrace=sys.exc_info()[2]\n",
      "  File \"/home/indika/anaconda3/lib/python3.7/site-packages/urllib3/util/retry.py\", line 574, in increment\n",
      "    raise MaxRetryError(_pool, url, error or ResponseError(cause))\n",
      "urllib3.exceptions.MaxRetryError: HTTPSConnectionPool(host='api.wandb.ai', port=443): Max retries exceeded with url: /graphql (Caused by SSLError(SSLCertVerificationError(1, '[SSL: CERTIFICATE_VERIFY_FAILED] certificate verify failed: certificate has expired (_ssl.c:1076)')))\n",
      "\n",
      "During handling of the above exception, another exception occurred:\n",
      "\n",
      "Traceback (most recent call last):\n",
      "  File \"/home/indika/anaconda3/lib/python3.7/site-packages/wandb/sdk/lib/retry.py\", line 102, in __call__\n",
      "    result = self._call_fn(*args, **kwargs)\n",
      "  File \"/home/indika/anaconda3/lib/python3.7/site-packages/wandb/sdk/internal/internal_api.py\", line 127, in execute\n",
      "    return self.client.execute(*args, **kwargs)\n",
      "  File \"/home/indika/anaconda3/lib/python3.7/site-packages/wandb/vendor/gql-0.2.0/gql/client.py\", line 52, in execute\n",
      "    result = self._get_result(document, *args, **kwargs)\n",
      "  File \"/home/indika/anaconda3/lib/python3.7/site-packages/wandb/vendor/gql-0.2.0/gql/client.py\", line 60, in _get_result\n",
      "    return self.transport.execute(document, *args, **kwargs)\n",
      "  File \"/home/indika/anaconda3/lib/python3.7/site-packages/wandb/vendor/gql-0.2.0/gql/transport/requests.py\", line 38, in execute\n",
      "    request = requests.post(self.url, **post_args)\n",
      "  File \"/home/indika/anaconda3/lib/python3.7/site-packages/requests/api.py\", line 119, in post\n",
      "    return request('post', url, data=data, json=json, **kwargs)\n",
      "  File \"/home/indika/anaconda3/lib/python3.7/site-packages/requests/api.py\", line 61, in request\n",
      "    return session.request(method=method, url=url, **kwargs)\n",
      "  File \"/home/indika/anaconda3/lib/python3.7/site-packages/requests/sessions.py\", line 542, in request\n",
      "    resp = self.send(prep, **send_kwargs)\n",
      "  File \"/home/indika/anaconda3/lib/python3.7/site-packages/requests/sessions.py\", line 655, in send\n",
      "    r = adapter.send(request, **kwargs)\n",
      "  File \"/home/indika/anaconda3/lib/python3.7/site-packages/requests/adapters.py\", line 514, in send\n",
      "    raise SSLError(e, request=request)\n",
      "requests.exceptions.SSLError: HTTPSConnectionPool(host='api.wandb.ai', port=443): Max retries exceeded with url: /graphql (Caused by SSLError(SSLCertVerificationError(1, '[SSL: CERTIFICATE_VERIFY_FAILED] certificate verify failed: certificate has expired (_ssl.c:1076)')))\n",
      "\u001b[34m\u001b[1mwandb\u001b[0m: Network error (SSLError), entering retry loop.\n",
      "\u001b[34m\u001b[1mwandb\u001b[0m: W&B API key is configured (use `wandb login --relogin` to force relogin)\n"
     ]
    }
   ],
   "source": [
    "models = [\n",
    "    'faster_rcnn_R_101_C4_3x.yaml',\n",
    "    'faster_rcnn_R_101_DC5_3x.yaml',\n",
    "    'faster_rcnn_R_101_FPN_3x.yaml',\n",
    "    'faster_rcnn_R_50_C4_1x.yaml',\n",
    "    'faster_rcnn_R_50_C4_3x.yaml',\n",
    "    'faster_rcnn_R_50_DC5_1x.yaml',\n",
    "    'faster_rcnn_R_50_DC5_3x.yaml',\n",
    "    'faster_rcnn_R_50_FPN_1x.yaml',\n",
    "    'faster_rcnn_R_50_FPN_3x.yaml',\n",
    "    'faster_rcnn_X_101_32x8d_FPN_3x.yaml',\n",
    "    'retinanet_R_101_FPN_3x.yaml',\n",
    "    'retinanet_R_50_FPN_1x.yaml',\n",
    "    'rpn_R_50_C4_1x.yaml',\n",
    "    'rpn_R_50_C4_1x.yaml'\n",
    "]\n",
    "for model in models:\n",
    "    wandb.init(sync_tensorboard=True,name=f'{model}-model')\n",
    "    cfg = get_cfg()\n",
    "    model = \"COCO-Detection/\" + model\n",
    "    cfg.merge_from_file(model_zoo.get_config_file((model)))\n",
    "    cfg.DATASETS.TRAIN = ('train_data',)\n",
    "    cfg.DATASETS.TEST = ('val_data',)\n",
    "    cfg.WEIGHTS = model_zoo.get_checkpoint_url(model)\n",
    "    cfg.SOLVER.IMS_PER_BATCH = 3\n",
    "    cfg.SOLVER.MAX_ITER = 500\n",
    "    cfg.SOLVER.BASE_LR = 0.000125\n",
    "    cfg.SOLVER.STEPS = []\n",
    "    cfg.MODEL.ROI_HEADS.BATCH_SIZE_PER_IMAGE = 512\n",
    "    cfg.MODEL.ROI_HEADS.NUM_CLASSES = 5\n",
    "    os.makedirs(cfg.OUTPUT_DIR,exist_ok=True)\n",
    "    trainer = DefaultTrainer(cfg)\n",
    "    trainer.resume_or_load(resume=False)\n",
    "    trainer.train()\n",
    "    trainer.test(cfg,[build_detection_test_loader(cfg,'val_data')])"
   ]
  },
  {
   "cell_type": "code",
   "execution_count": null,
   "id": "c48fe000-5c41-4d1d-893a-5942195eb2fe",
   "metadata": {},
   "outputs": [],
   "source": [
    "predictor = DefaultPredictor(cfg)"
   ]
  },
  {
   "cell_type": "code",
   "execution_count": null,
   "id": "078d3f39-e886-4069-bbec-7f1c831636d2",
   "metadata": {},
   "outputs": [],
   "source": [
    "img = cv2.imread('./images/1478019961182003465.jpg')"
   ]
  },
  {
   "cell_type": "code",
   "execution_count": null,
   "id": "b167669e-9ec4-46a3-88f3-22c85fab3da6",
   "metadata": {},
   "outputs": [],
   "source": [
    "preds = predictor(img)['instances']"
   ]
  },
  {
   "cell_type": "code",
   "execution_count": null,
   "id": "59279719-2189-451d-98b9-652ea4d055ad",
   "metadata": {},
   "outputs": [],
   "source": [
    "v = Visualizer(img[:,:,::-1],metadata=train_data_metadata,scale=1)\n",
    "v = v.draw_instance_predictions(preds.to('cpu'))\n",
    "v = v.get_image()[:,:,::-1]\n",
    "plt.figure(figsize=(10,7))\n",
    "plt.imshow(v)\n",
    "plt.show()"
   ]
  },
  {
   "cell_type": "code",
   "execution_count": null,
   "id": "c4e59a4f-ae7e-46f4-b213-a50c455c9a32",
   "metadata": {},
   "outputs": [],
   "source": []
  }
 ],
 "metadata": {
  "kernelspec": {
   "display_name": "Python 3.7.3 64-bit ('base': conda)",
   "language": "python",
   "name": "python373jvsc74a57bd0210f9608a45c0278a93c9e0b10db32a427986ab48cfc0d20c139811eb78c4bbc"
  },
  "language_info": {
   "codemirror_mode": {
    "name": "ipython",
    "version": 3
   },
   "file_extension": ".py",
   "mimetype": "text/x-python",
   "name": "python",
   "nbconvert_exporter": "python",
   "pygments_lexer": "ipython3",
   "version": "3.7.7"
  }
 },
 "nbformat": 4,
 "nbformat_minor": 5
}
